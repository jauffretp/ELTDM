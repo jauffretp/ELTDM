{
 "cells": [
  {
   "cell_type": "code",
   "execution_count": 6,
   "metadata": {
    "collapsed": false
   },
   "outputs": [],
   "source": [
    "from pyspark import SparkContext, SparkConf\n",
    "\n",
    "sc = SparkContext.getOrCreate()\n",
    "sc.stop()\n",
    "\n",
    "conf = SparkConf().setAppName(\"kmeans\").setMaster(\"local[*]\")\n",
    "sc = SparkContext(conf=conf)"
   ]
  },
  {
   "cell_type": "markdown",
   "metadata": {},
   "source": [
    "* Getting data from S-sets : https://cs.joensuu.fi/sipu/datasets/\n",
    "* Using the s1 dataset"
   ]
  },
  {
   "cell_type": "code",
   "execution_count": 28,
   "metadata": {
    "collapsed": false
   },
   "outputs": [],
   "source": [
    "s1 = sc.textFile(\"../data/s1.txt\")\n",
    "\n",
    "\n",
    "def extract_split(x):\n",
    "    splits = x.split('    ')\n",
    "    return (splits[1], splits[2])\n",
    "\n",
    "s1_map = s1.flatMap(lambda x: x.split('\\n')).map(extract_split)\n",
    "\n"
   ]
  },
  {
   "cell_type": "code",
   "execution_count": 35,
   "metadata": {
    "collapsed": false
   },
   "outputs": [
    {
     "data": {
      "text/plain": [
       "[('792990', '685472'),\n",
       " ('337298', '565486'),\n",
       " ('864059', '545894'),\n",
       " ('525967', '565687'),\n",
       " ('860563', '534839'),\n",
       " ('895623', '178393'),\n",
       " ('295311', '115000'),\n",
       " ('637323', '549567'),\n",
       " ('261622', '869706'),\n",
       " ('849327', '548496'),\n",
       " ('829790', '205695'),\n",
       " ('407289', '798870'),\n",
       " ('244246', '847589'),\n",
       " ('418410', '795929'),\n",
       " ('172885', '352621'),\n",
       " ('410969', '770451'),\n",
       " ('391776', '409868'),\n",
       " ('127964', '538935'),\n",
       " ('854012', '157449'),\n",
       " ('809550', '327365')]"
      ]
     },
     "execution_count": 35,
     "metadata": {},
     "output_type": "execute_result"
    }
   ],
   "source": [
    "s1_map.takeSample(False, 20)"
   ]
  }
 ],
 "metadata": {
  "kernelspec": {
   "display_name": "Python 3",
   "language": "python",
   "name": "python3"
  },
  "language_info": {
   "codemirror_mode": {
    "name": "ipython",
    "version": 3
   },
   "file_extension": ".py",
   "mimetype": "text/x-python",
   "name": "python",
   "nbconvert_exporter": "python",
   "pygments_lexer": "ipython3",
   "version": "3.4.3"
  }
 },
 "nbformat": 4,
 "nbformat_minor": 1
}
