{
 "cells": [
  {
   "cell_type": "markdown",
   "metadata": {},
   "source": [
    "# Getting the data"
   ]
  },
  {
   "cell_type": "code",
   "execution_count": 241,
   "metadata": {
    "collapsed": false
   },
   "outputs": [],
   "source": [
    "from pyspark import SparkContext, SparkConf\n",
    "from math import sqrt\n",
    "\n",
    "sc = SparkContext.getOrCreate()\n",
    "sc.stop()\n",
    "\n",
    "conf = SparkConf().setAppName(\"kmeans\").setMaster(\"local[*]\")\n",
    "sc = SparkContext(conf=conf)"
   ]
  },
  {
   "cell_type": "markdown",
   "metadata": {},
   "source": [
    "* Getting data from S-sets : https://cs.joensuu.fi/sipu/datasets/\n",
    "* Using the s1 dataset"
   ]
  },
  {
   "cell_type": "code",
   "execution_count": 242,
   "metadata": {
    "collapsed": false
   },
   "outputs": [],
   "source": [
    "s1 = sc.textFile(\"../data/s1.txt\")\n",
    "\n",
    "\n",
    "def extract_split(x):\n",
    "    splits = x.split('    ')\n",
    "    return (int(splits[1]), int(splits[2]))\n",
    "\n",
    "s1_map = s1.flatMap(lambda x: x.split('\\n')).map(extract_split)\n",
    "\n"
   ]
  },
  {
   "cell_type": "code",
   "execution_count": 243,
   "metadata": {
    "collapsed": false
   },
   "outputs": [
    {
     "data": {
      "text/plain": [
       "[(397764, 406712),\n",
       " (318215, 180010),\n",
       " (366654, 802105),\n",
       " (429220, 787348),\n",
       " (333787, 189423),\n",
       " (810817, 509540),\n",
       " (608923, 385575),\n",
       " (138199, 541774),\n",
       " (137451, 555339),\n",
       " (334182, 558498),\n",
       " (175586, 365049),\n",
       " (856619, 544008),\n",
       " (225567, 853078),\n",
       " (853554, 158012),\n",
       " (535564, 177248),\n",
       " (320628, 564596),\n",
       " (615239, 317684),\n",
       " (160165, 362858),\n",
       " (861033, 507671),\n",
       " (352209, 548608)]"
      ]
     },
     "execution_count": 243,
     "metadata": {},
     "output_type": "execute_result"
    }
   ],
   "source": [
    "s1_map.takeSample(False, 20)"
   ]
  },
  {
   "cell_type": "markdown",
   "metadata": {},
   "source": [
    "# Kmeans ++ intitialization"
   ]
  },
  {
   "cell_type": "code",
   "execution_count": 244,
   "metadata": {
    "collapsed": false
   },
   "outputs": [
    {
     "name": "stdout",
     "output_type": "stream",
     "text": [
      "5000\n"
     ]
    }
   ],
   "source": [
    "cluster1_center = s1_map.takeSample(False, 1)[0]\n",
    "\n",
    "\n",
    "data_length = s1_map.count()\n",
    "print(data_length)\n",
    "BUCKET_SIZE = 1000\n",
    "BUCKET_NUMBER = int(data_length / BUCKET_SIZE)\n",
    "\n"
   ]
  },
  {
   "cell_type": "code",
   "execution_count": 245,
   "metadata": {
    "collapsed": false
   },
   "outputs": [],
   "source": [
    "from random import randint\n",
    "s1_map = s1_map.map(lambda x:(randint(1,BUCKET_NUMBER),) + x)"
   ]
  },
  {
   "cell_type": "code",
   "execution_count": 246,
   "metadata": {
    "collapsed": false
   },
   "outputs": [
    {
     "data": {
      "text/plain": [
       "[(2, 658199, 568743, 351883, 890475),\n",
       " (5, 892423, 530999, 351883, 890475),\n",
       " (1, 677551, 860007, 351883, 890475),\n",
       " (5, 812152, 689907, 351883, 890475),\n",
       " (2, 299578, 572052, 351883, 890475),\n",
       " (5, 800959, 322309, 351883, 890475),\n",
       " (4, 857620, 709386, 351883, 890475),\n",
       " (1, 576235, 462612, 351883, 890475),\n",
       " (2, 80673, 566893, 351883, 890475),\n",
       " (1, 422961, 821595, 351883, 890475),\n",
       " (1, 598053, 438963, 351883, 890475),\n",
       " (2, 600679, 599545, 351883, 890475),\n",
       " (2, 497255, 188783, 351883, 890475),\n",
       " (5, 373339, 398565, 351883, 890475),\n",
       " (1, 242087, 844255, 351883, 890475),\n",
       " (1, 330533, 214555, 351883, 890475),\n",
       " (4, 604737, 574591, 351883, 890475),\n",
       " (5, 684131, 898331, 351883, 890475),\n",
       " (4, 850200, 164752, 351883, 890475),\n",
       " (1, 230591, 874855, 351883, 890475)]"
      ]
     },
     "execution_count": 246,
     "metadata": {},
     "output_type": "execute_result"
    }
   ],
   "source": [
    "s1_map = s1_map.map(lambda x : x + cluster1_center)\n",
    "s1_map.takeSample(False,20)"
   ]
  },
  {
   "cell_type": "code",
   "execution_count": 247,
   "metadata": {
    "collapsed": false
   },
   "outputs": [],
   "source": [
    "def compute_distance(xi_indexes, yi_indexes):\n",
    "    def bar(row):\n",
    "        sum = 0\n",
    "        for i in range(len(xi_indexes)):\n",
    "            sum += (row[yi_indexes[i]] - row[xi_indexes[i]]) ** 2\n",
    "        distance = sqrt(sum)\n",
    "        return row + (distance,)\n",
    "    return bar\n"
   ]
  },
  {
   "cell_type": "code",
   "execution_count": 248,
   "metadata": {
    "collapsed": false
   },
   "outputs": [
    {
     "data": {
      "text/plain": [
       "[(1, 213064, 290947, 351883, 890475, 615389.7444262457),\n",
       " (2, 658103, 572250, 351883, 890475, 441630.8854971536),\n",
       " (4, 579564, 428498, 351883, 890475, 515035.32528361585),\n",
       " (2, 358830, 431609, 351883, 890475, 458918.5840266223),\n",
       " (3, 621537, 390372, 351883, 890475, 568169.244437782),\n",
       " (2, 807446, 342555, 351883, 890475, 712568.5745028334),\n",
       " (3, 920249, 551171, 351883, 890475, 661941.9267367795),\n",
       " (2, 796353, 710294, 351883, 890475, 479602.7248264964),\n",
       " (1, 618009, 867493, 351883, 890475, 267116.4918158368),\n",
       " (5, 875311, 542259, 351883, 890475, 628674.2032563449),\n",
       " (4, 821151, 366545, 351883, 890475, 703359.8657330399),\n",
       " (3, 147663, 555514, 351883, 890475, 392306.869581709),\n",
       " (4, 881789, 727577, 351883, 890475, 554379.0465376555),\n",
       " (4, 610722, 418243, 351883, 890475, 538517.1211252247),\n",
       " (2, 401708, 409924, 351883, 890475, 483127.0994531356),\n",
       " (4, 841292, 155620, 351883, 890475, 882911.6831858099),\n",
       " (3, 605911, 379990, 351883, 890475, 570197.4745726256),\n",
       " (3, 498730, 183037, 351883, 890475, 722518.2110182414),\n",
       " (4, 653745, 809028, 351883, 890475, 312656.8100217873),\n",
       " (4, 332307, 189590, 351883, 890475, 701158.3294812948)]"
      ]
     },
     "execution_count": 248,
     "metadata": {},
     "output_type": "execute_result"
    }
   ],
   "source": [
    "s1_map = s1_map.map(compute_distance([1,2],[3,4]))\n",
    "s1_map.takeSample(False,20)"
   ]
  },
  {
   "cell_type": "code",
   "execution_count": null,
   "metadata": {
    "collapsed": false
   },
   "outputs": [],
   "source": []
  },
  {
   "cell_type": "code",
   "execution_count": 339,
   "metadata": {
    "collapsed": false
   },
   "outputs": [],
   "source": [
    "def reduceByKeyMax(dist_indexes):\n",
    "    def reduce_custom(x1,x2):\n",
    "        dist_x1 = []\n",
    "        dist_x2 = []\n",
    "        for idx in dist_indexes:\n",
    "            dist_x1.append(x1[idx])\n",
    "            dist_x2.append(x2[idx])\n",
    "        \n",
    "        mindist_x1 =  min(dist_x1)\n",
    "        mindist_x2 = min(dist_x2)\n",
    "        if(mindist_x1 > mindist_x2):\n",
    "            return x1\n",
    "        else:\n",
    "            return x2\n",
    "    return reduce_custom\n",
    "\n"
   ]
  },
  {
   "cell_type": "code",
   "execution_count": 340,
   "metadata": {
    "collapsed": false
   },
   "outputs": [
    {
     "data": {
      "text/plain": [
       "[(5, (101722, 535117, 351883, 890475, 434580.06636867276)),\n",
       " (1, (140121, 346875, 351883, 890475, 583390.1821628471)),\n",
       " (2, (308044, 164482, 351883, 890475, 727315.4019887109)),\n",
       " (4, (295537, 91032, 351883, 890475, 801426.2174180478)),\n",
       " (5, (599870, 591110, 351883, 890475, 388737.6433971889)),\n",
       " (5, (606809, 572101, 351883, 890475, 407859.37448096)),\n",
       " (4, (636291, 360636, 351883, 890475, 601346.2200637832)),\n",
       " (3, (604554, 393193, 351883, 890475, 557792.0954665815)),\n",
       " (1, (431117, 394746, 351883, 890475, 502021.183016215)),\n",
       " (3, (404782, 557913, 351883, 890475, 336742.91090533737)),\n",
       " (1, (825141, 535997, 351883, 890475, 591293.3172698639)),\n",
       " (2, (770113, 241615, 351883, 890475, 771968.673263365)),\n",
       " (5, (814561, 575281, 351883, 890475, 559837.6455009077)),\n",
       " (2, (192460, 388323, 351883, 890475, 526851.3301046131)),\n",
       " (5, (790774, 303642, 351883, 890475, 732801.6646883384)),\n",
       " (5, (236431, 844100, 351883, 890475, 124417.8641875836)),\n",
       " (2, (817410, 346944, 351883, 890475, 715640.5073009772)),\n",
       " (1, (657811, 885904, 351883, 890475, 305962.14671916526)),\n",
       " (4, (496006, 191010, 351883, 890475, 714158.7536073475)),\n",
       " (1, (677404, 883871, 351883, 890475, 325587.98235960735))]"
      ]
     },
     "execution_count": 340,
     "metadata": {},
     "output_type": "execute_result"
    }
   ],
   "source": [
    "\n",
    "s1_reduce = s1_map.map(lambda x:(x[0], x[1:6]))\n",
    "s1_reduce.takeSample(False,20)\n"
   ]
  },
  {
   "cell_type": "code",
   "execution_count": 344,
   "metadata": {
    "collapsed": false
   },
   "outputs": [
    {
     "data": {
      "text/plain": [
       "[(2, (854996, 81095, 351883, 890475, 953005.0761506992)),\n",
       " (4, (869167, 105039, 351883, 890475, 940474.585915005)),\n",
       " (1, (883864, 111281, 351883, 890475, 943476.0590481351)),\n",
       " (3, (881106, 105566, 351883, 890475, 946656.8132169123)),\n",
       " (5, (874672, 104851, 351883, 890475, 943670.1796162683))]"
      ]
     },
     "execution_count": 344,
     "metadata": {},
     "output_type": "execute_result"
    }
   ],
   "source": [
    "s1_reduce = s1_reduce.reduceByKey(reduceByKeyMax(dist_indexes=[4]))\n",
    "s1_reduce.collect()"
   ]
  },
  {
   "cell_type": "code",
   "execution_count": 346,
   "metadata": {
    "collapsed": false
   },
   "outputs": [],
   "source": [
    "def compute_average(list_reduce, coord_indexes):\n",
    "    result = ()\n",
    "    for idx in coord_indexes:\n",
    "        coord_list = [reduce_tuple[1][idx] for reduce_tuple in list_reduce]\n",
    "        average = sum(coord_list)/len(coord_list)\n",
    "        result += (average,)\n",
    "    return result\n",
    "\n",
    "new_cluster_point = compute_average(s1_reduce.collect(), [0,1])\n",
    "        "
   ]
  },
  {
   "cell_type": "code",
   "execution_count": 348,
   "metadata": {
    "collapsed": false
   },
   "outputs": [
    {
     "name": "stdout",
     "output_type": "stream",
     "text": [
      "(351883, 890475)\n",
      "(872761.0, 101566.4)\n"
     ]
    }
   ],
   "source": [
    "print(cluster1_center)\n",
    "print (new_cluster_point)"
   ]
  }
 ],
 "metadata": {
  "kernelspec": {
   "display_name": "Python 3",
   "language": "python",
   "name": "python3"
  },
  "language_info": {
   "codemirror_mode": {
    "name": "ipython",
    "version": 3
   },
   "file_extension": ".py",
   "mimetype": "text/x-python",
   "name": "python",
   "nbconvert_exporter": "python",
   "pygments_lexer": "ipython3",
   "version": "3.4.3"
  }
 },
 "nbformat": 4,
 "nbformat_minor": 1
}
