{
 "cells": [
  {
   "cell_type": "markdown",
   "metadata": {},
   "source": [
    "# Getting the data"
   ]
  },
  {
   "cell_type": "code",
   "execution_count": 47,
   "metadata": {
    "collapsed": false
   },
   "outputs": [],
   "source": [
    "from pyspark import SparkContext, SparkConf\n",
    "from math import sqrt,log\n",
    "from random import randint, random\n",
    "\n",
    "\n",
    "sc = SparkContext.getOrCreate()\n",
    "sc.stop()\n",
    "\n",
    "conf = SparkConf().setAppName(\"kmeans\").setMaster(\"local[*]\")\n",
    "sc = SparkContext(conf=conf)"
   ]
  },
  {
   "cell_type": "markdown",
   "metadata": {},
   "source": [
    "* Getting data from S-sets : https://cs.joensuu.fi/sipu/datasets/\n",
    "* Using the s1 dataset"
   ]
  },
  {
   "cell_type": "code",
   "execution_count": 48,
   "metadata": {
    "collapsed": false
   },
   "outputs": [],
   "source": [
    "s1 = sc.textFile(\"../data/s1.txt\")\n",
    "\n",
    "\n",
    "def extract_split(x):\n",
    "    splits = x.split('    ')\n",
    "    return (int(splits[1]), int(splits[2]))\n",
    "\n",
    "s1 = s1.flatMap(lambda x: x.split('\\n')).map(extract_split)\n",
    "\n"
   ]
  },
  {
   "cell_type": "code",
   "execution_count": 49,
   "metadata": {
    "collapsed": false
   },
   "outputs": [
    {
     "data": {
      "text/plain": [
       "[(479631, 178459),\n",
       " (615649, 429323),\n",
       " (197849, 575524),\n",
       " (832154, 559403),\n",
       " (668367, 855686),\n",
       " (700341, 869730),\n",
       " (746769, 205186),\n",
       " (863102, 545783),\n",
       " (646816, 829778),\n",
       " (251032, 876118),\n",
       " (533551, 582247),\n",
       " (391530, 398743),\n",
       " (346144, 560472),\n",
       " (155274, 552551),\n",
       " (559076, 190770),\n",
       " (789388, 712210),\n",
       " (353333, 113156),\n",
       " (894124, 202052),\n",
       " (858042, 178196),\n",
       " (614279, 599251)]"
      ]
     },
     "execution_count": 49,
     "metadata": {},
     "output_type": "execute_result"
    }
   ],
   "source": [
    "s1.takeSample(False, 20)"
   ]
  },
  {
   "cell_type": "markdown",
   "metadata": {},
   "source": [
    "# Kmeans ++ intitialization"
   ]
  },
  {
   "cell_type": "code",
   "execution_count": 36,
   "metadata": {
    "collapsed": false
   },
   "outputs": [],
   "source": [
    "cluster1_center = s1.takeSample(False, 1)[0]"
   ]
  },
  {
   "cell_type": "code",
   "execution_count": null,
   "metadata": {
    "collapsed": false
   },
   "outputs": [],
   "source": []
  },
  {
   "cell_type": "code",
   "execution_count": 37,
   "metadata": {
    "collapsed": false
   },
   "outputs": [
    {
     "data": {
      "text/plain": [
       "[(396517, 394572, 808686, 332209),\n",
       " (721905, 378957, 808686, 332209),\n",
       " (474652, 193224, 808686, 332209),\n",
       " (804119, 328544, 808686, 332209),\n",
       " (432656, 783776, 808686, 332209),\n",
       " (227819, 900986, 808686, 332209),\n",
       " (546565, 151576, 808686, 332209),\n",
       " (854769, 713941, 808686, 332209),\n",
       " (874544, 686096, 808686, 332209),\n",
       " (618676, 377015, 808686, 332209),\n",
       " (612648, 772280, 808686, 332209),\n",
       " (367048, 553451, 808686, 332209),\n",
       " (675551, 956849, 808686, 332209),\n",
       " (407429, 399155, 808686, 332209),\n",
       " (344096, 575522, 808686, 332209),\n",
       " (551291, 576721, 808686, 332209),\n",
       " (487472, 166999, 808686, 332209),\n",
       " (860384, 555572, 808686, 332209),\n",
       " (399291, 386712, 808686, 332209),\n",
       " (274495, 182470, 808686, 332209)]"
      ]
     },
     "execution_count": 37,
     "metadata": {},
     "output_type": "execute_result"
    }
   ],
   "source": [
    "s1_map = s1.map(lambda x : x + cluster1_center)\n",
    "s1_map.takeSample(False,20)"
   ]
  },
  {
   "cell_type": "code",
   "execution_count": null,
   "metadata": {
    "collapsed": true
   },
   "outputs": [],
   "source": []
  },
  {
   "cell_type": "code",
   "execution_count": 38,
   "metadata": {
    "collapsed": false
   },
   "outputs": [],
   "source": [
    "def compute_distance(xi_indexes, yi_indexes):\n",
    "    def bar(row):\n",
    "        sum = 0\n",
    "        for i in range(len(xi_indexes)):\n",
    "            sum += (row[yi_indexes[i]] - row[xi_indexes[i]]) ** 2\n",
    "        distance = sqrt(sum)\n",
    "        return row + (distance,)\n",
    "    return bar\n"
   ]
  },
  {
   "cell_type": "code",
   "execution_count": 39,
   "metadata": {
    "collapsed": false
   },
   "outputs": [],
   "source": [
    "def reduceMax(dist_indexes):\n",
    "    def reduce_custom(x1,x2):\n",
    "        dist_x1 = []\n",
    "        dist_x2 = []\n",
    "        for idx in dist_indexes:\n",
    "            dist_x1.append(x1[idx])\n",
    "            dist_x2.append(x2[idx])\n",
    "        \n",
    "        mindist_x1 =  min(dist_x1)\n",
    "        mindist_x2 = min(dist_x2)\n",
    "        \n",
    "        \n",
    "        if(mindist_x1 > mindist_x2):\n",
    "            return x1\n",
    "        else:\n",
    "            return x2\n",
    "        \n",
    "        \n",
    "        '''\n",
    "        #Another version with more randomness => should converge less\n",
    "        if(mindist_x1 != 0):\n",
    "            drawx1 = log(mindist_x1) * random() \n",
    "        else:\n",
    "            drawx1 = 0\n",
    "        if(mindist_x2 != 0):\n",
    "            drawx2 = log(mindist_x2) * random()\n",
    "        else:\n",
    "            drawx2 = 0\n",
    "            \n",
    "            \n",
    "        if(drawx1 > drawx2):\n",
    "            return x1\n",
    "        else:\n",
    "            return x2\n",
    "        '''\n",
    "        \n",
    "        \n",
    "    return reduce_custom\n",
    "\n"
   ]
  },
  {
   "cell_type": "code",
   "execution_count": 44,
   "metadata": {
    "collapsed": true
   },
   "outputs": [],
   "source": [
    "def reduceMaxWithRandom(dist_indexes):\n",
    "    def reduce_custom(x1,x2):\n",
    "        dist_x1 = []\n",
    "        dist_x2 = []\n",
    "        for idx in dist_indexes:\n",
    "            dist_x1.append(x1[idx])\n",
    "            dist_x2.append(x2[idx])\n",
    "        \n",
    "        mindist_x1 =  min(dist_x1)\n",
    "        mindist_x2 = min(dist_x2)\n",
    "        \n",
    "        \n",
    "        if(mindist_x1 != 0):\n",
    "            drawx1 = log(mindist_x1) * random() \n",
    "        else:\n",
    "            drawx1 = 0\n",
    "        if(mindist_x2 != 0):\n",
    "            drawx2 = log(mindist_x2) * random()\n",
    "        else:\n",
    "            drawx2 = 0\n",
    "            \n",
    "            \n",
    "        if(drawx1 > drawx2):\n",
    "            return x1\n",
    "        else:\n",
    "            return x2\n",
    "        \n",
    "            \n",
    "    return reduce_custom"
   ]
  },
  {
   "cell_type": "code",
   "execution_count": 45,
   "metadata": {
    "collapsed": false
   },
   "outputs": [],
   "source": [
    "def compute_average(list_reduce, coord_indexes):\n",
    "    result = ()\n",
    "    for idx in coord_indexes:\n",
    "        coord_list = [reduce_tuple[1][idx] for reduce_tuple in list_reduce]\n",
    "        average = sum(coord_list)/len(coord_list)\n",
    "        result += (average,)\n",
    "    return result\n",
    "        "
   ]
  },
  {
   "cell_type": "code",
   "execution_count": 55,
   "metadata": {
    "collapsed": false
   },
   "outputs": [],
   "source": [
    "def initCluster(data,num_clusters,num_features, reducer):\n",
    "    xi_indexes = [idx for idx in range(0,num_features)]\n",
    "    yi_indexes = [idx for idx in range(num_features, num_features*2)]\n",
    "    coord_indexes = [idx for idx in range(num_features)]\n",
    "    dist_indexes = [num_features*2]\n",
    "    current_clust = 2\n",
    "    \n",
    "    '''\n",
    "    print(\"Initial xi_indexes : \", xi_indexes)\n",
    "    print(\"Initial yi_indexes : \", yi_indexes)\n",
    "    print(\"Initial coord_indexes : \",coord_indexes)\n",
    "    print(\"Initial dist_indexes : \", dist_indexes)\n",
    "    print(\"Intial current_clust :\", current_clust)\n",
    "    print(\"\\n\")\n",
    "    '''\n",
    "    \n",
    "    for _ in range(num_clusters-1):\n",
    "        \n",
    "        \n",
    "        data = data.map(compute_distance(xi_indexes, yi_indexes))\n",
    "        \n",
    "        reduce_tuple = data.reduce(reducer(dist_indexes=dist_indexes))\n",
    "                \n",
    "        new_cluster_point = tuple(reduce_tuple[i] for i in coord_indexes)\n",
    "        \n",
    "        #print(\"Computing center of cluster n° {}\".format(current_clust))\n",
    "        print(\"New cluster point : {}\".format(new_cluster_point))\n",
    "        \n",
    "        data = data.map(lambda x:(x + new_cluster_point))\n",
    "        \n",
    "        \n",
    "        #Update of variables\n",
    "        current_clust += 1\n",
    "        dist_indexes.append(current_clust*num_features + current_clust - 2)\n",
    "        yi_indexes = [old_value + num_features + 1 for old_value in yi_indexes]\n",
    "        \n",
    "        #print(\"New yi indexes : {}\".format(yi_indexes))\n",
    "        #print(\"New dist_indexes : {}\".format(dist_indexes))\n",
    "        print(\"\\n\")\n",
    "\n",
    "    return data\n",
    "        \n"
   ]
  },
  {
   "cell_type": "code",
   "execution_count": 42,
   "metadata": {
    "collapsed": false
   },
   "outputs": [
    {
     "name": "stdout",
     "output_type": "stream",
     "text": [
      "Initial xi_indexes :  [0, 1]\n",
      "Initial yi_indexes :  [2, 3]\n",
      "Initial coord_indexes :  [0, 1]\n",
      "Initial dist_indexes :  [4]\n",
      "Intial current_clust : 2\n",
      "\n",
      "\n",
      "Computing center of cluster n° 2\n",
      "New cluster point : (139601, 914203)\n",
      "New yi indexes : [5, 6]\n",
      "New dist_indexes : [4, 7]\n",
      "\n",
      "\n",
      "Computing center of cluster n° 3\n",
      "New cluster point : (155625, 262321)\n",
      "New yi indexes : [8, 9]\n",
      "New dist_indexes : [4, 7, 10]\n",
      "\n",
      "\n",
      "Computing center of cluster n° 4\n",
      "New cluster point : (267049, 950249)\n",
      "New yi indexes : [11, 12]\n",
      "New dist_indexes : [4, 7, 10, 13]\n",
      "\n",
      "\n",
      "Computing center of cluster n° 5\n",
      "New cluster point : (143732, 279724)\n",
      "New yi indexes : [14, 15]\n",
      "New dist_indexes : [4, 7, 10, 13, 16]\n",
      "\n",
      "\n",
      "Computing center of cluster n° 6\n",
      "New cluster point : (267049, 950249)\n",
      "New yi indexes : [17, 18]\n",
      "New dist_indexes : [4, 7, 10, 13, 16, 19]\n",
      "\n",
      "\n",
      "Computing center of cluster n° 7\n",
      "New cluster point : (143732, 279724)\n",
      "New yi indexes : [20, 21]\n",
      "New dist_indexes : [4, 7, 10, 13, 16, 19, 22]\n",
      "\n",
      "\n",
      "Computing center of cluster n° 8\n",
      "New cluster point : (267049, 950249)\n",
      "New yi indexes : [23, 24]\n",
      "New dist_indexes : [4, 7, 10, 13, 16, 19, 22, 25]\n",
      "\n",
      "\n",
      "Computing center of cluster n° 9\n",
      "New cluster point : (143732, 279724)\n",
      "New yi indexes : [26, 27]\n",
      "New dist_indexes : [4, 7, 10, 13, 16, 19, 22, 25, 28]\n",
      "\n",
      "\n",
      "Computing center of cluster n° 10\n",
      "New cluster point : (267049, 950249)\n",
      "New yi indexes : [29, 30]\n",
      "New dist_indexes : [4, 7, 10, 13, 16, 19, 22, 25, 28, 31]\n",
      "\n",
      "\n",
      "Computing center of cluster n° 11\n",
      "New cluster point : (143732, 279724)\n",
      "New yi indexes : [32, 33]\n",
      "New dist_indexes : [4, 7, 10, 13, 16, 19, 22, 25, 28, 31, 34]\n",
      "\n",
      "\n",
      "Computing center of cluster n° 12\n",
      "New cluster point : (267049, 950249)\n",
      "New yi indexes : [35, 36]\n",
      "New dist_indexes : [4, 7, 10, 13, 16, 19, 22, 25, 28, 31, 34, 37]\n",
      "\n",
      "\n",
      "Computing center of cluster n° 13\n",
      "New cluster point : (143732, 279724)\n",
      "New yi indexes : [38, 39]\n",
      "New dist_indexes : [4, 7, 10, 13, 16, 19, 22, 25, 28, 31, 34, 37, 40]\n",
      "\n",
      "\n",
      "Computing center of cluster n° 14\n",
      "New cluster point : (267049, 950249)\n",
      "New yi indexes : [41, 42]\n",
      "New dist_indexes : [4, 7, 10, 13, 16, 19, 22, 25, 28, 31, 34, 37, 40, 43]\n",
      "\n",
      "\n",
      "Computing center of cluster n° 15\n",
      "New cluster point : (143732, 279724)\n",
      "New yi indexes : [44, 45]\n",
      "New dist_indexes : [4, 7, 10, 13, 16, 19, 22, 25, 28, 31, 34, 37, 40, 43, 46]\n",
      "\n",
      "\n",
      "Computing center of cluster n° 16\n",
      "New cluster point : (267049, 950249)\n",
      "New yi indexes : [47, 48]\n",
      "New dist_indexes : [4, 7, 10, 13, 16, 19, 22, 25, 28, 31, 34, 37, 40, 43, 46, 49]\n",
      "\n",
      "\n",
      "Computing center of cluster n° 17\n",
      "New cluster point : (143732, 279724)\n",
      "New yi indexes : [50, 51]\n",
      "New dist_indexes : [4, 7, 10, 13, 16, 19, 22, 25, 28, 31, 34, 37, 40, 43, 46, 49, 52]\n",
      "\n",
      "\n",
      "Computing center of cluster n° 18\n",
      "New cluster point : (267049, 950249)\n",
      "New yi indexes : [53, 54]\n",
      "New dist_indexes : [4, 7, 10, 13, 16, 19, 22, 25, 28, 31, 34, 37, 40, 43, 46, 49, 52, 55]\n",
      "\n",
      "\n",
      "Computing center of cluster n° 19\n",
      "New cluster point : (143732, 279724)\n",
      "New yi indexes : [56, 57]\n",
      "New dist_indexes : [4, 7, 10, 13, 16, 19, 22, 25, 28, 31, 34, 37, 40, 43, 46, 49, 52, 55, 58]\n",
      "\n",
      "\n",
      "Computing center of cluster n° 20\n",
      "New cluster point : (267049, 950249)\n",
      "New yi indexes : [59, 60]\n",
      "New dist_indexes : [4, 7, 10, 13, 16, 19, 22, 25, 28, 31, 34, 37, 40, 43, 46, 49, 52, 55, 58, 61]\n",
      "\n",
      "\n"
     ]
    }
   ],
   "source": [
    "\n",
    "\n",
    "s1_map = initCluster(s1_map, num_features=2,num_clusters=20)\n"
   ]
  },
  {
   "cell_type": "code",
   "execution_count": 59,
   "metadata": {
    "collapsed": false
   },
   "outputs": [
    {
     "name": "stdout",
     "output_type": "stream",
     "text": [
      "Initial cluster center :  (326043, 553772) \n",
      "\n",
      "New cluster point : (895835, 123485)\n",
      "\n",
      "\n",
      "New cluster point : (878690, 739021)\n",
      "\n",
      "\n",
      "New cluster point : (854996, 81095)\n",
      "\n",
      "\n",
      "New cluster point : (878690, 739021)\n",
      "\n",
      "\n",
      "New cluster point : (854996, 81095)\n",
      "\n",
      "\n",
      "New cluster point : (878690, 739021)\n",
      "\n",
      "\n",
      "New cluster point : (854996, 81095)\n",
      "\n",
      "\n",
      "New cluster point : (878690, 739021)\n",
      "\n",
      "\n",
      "New cluster point : (854996, 81095)\n",
      "\n",
      "\n",
      "New cluster point : (878690, 739021)\n",
      "\n",
      "\n",
      "New cluster point : (854996, 81095)\n",
      "\n",
      "\n",
      "New cluster point : (878690, 739021)\n",
      "\n",
      "\n",
      "New cluster point : (854996, 81095)\n",
      "\n",
      "\n",
      "New cluster point : (878690, 739021)\n",
      "\n",
      "\n",
      "New cluster point : (854996, 81095)\n",
      "\n",
      "\n",
      "New cluster point : (878690, 739021)\n",
      "\n",
      "\n",
      "New cluster point : (854996, 81095)\n",
      "\n",
      "\n",
      "New cluster point : (878690, 739021)\n",
      "\n",
      "\n",
      "New cluster point : (854996, 81095)\n",
      "\n",
      "\n"
     ]
    }
   ],
   "source": [
    "cluster1_center = s1.takeSample(False, 1)[0]\n",
    "print(\"Initial cluster center : \",cluster1_center, \"\\n\")\n",
    "s1_map = s1.map(lambda x : x + cluster1_center)\n",
    "s1_map_clustered = initCluster(s1_map, num_features=2,num_clusters=20, reducer=reduceMax)\n"
   ]
  },
  {
   "cell_type": "code",
   "execution_count": null,
   "metadata": {
    "collapsed": true
   },
   "outputs": [],
   "source": [
    "print(\"Initial cluster center : \",a cluster1_center, \"\\n\")\n",
    "s1_map_clustered2 = initCluster(s1_map, anum_features=2,num_clusters=20, reducer=reduceMax)\n"
   ]
  }
 ],
 "metadata": {
  "kernelspec": {
   "display_name": "Python 3",
   "language": "python",
   "name": "python3"
  },
  "language_info": {
   "codemirror_mode": {
    "name": "ipython",
    "version": 3
   },
   "file_extension": ".py",
   "mimetype": "text/x-python",
   "name": "python",
   "nbconvert_exporter": "python",
   "pygments_lexer": "ipython3",
   "version": "3.4.3"
  }
 },
 "nbformat": 4,
 "nbformat_minor": 1
}
